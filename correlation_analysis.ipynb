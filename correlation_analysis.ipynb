{
  "nbformat": 4,
  "nbformat_minor": 0,
  "metadata": {
    "colab": {
      "provenance": []
    },
    "kernelspec": {
      "name": "python3",
      "display_name": "Python 3"
    },
    "language_info": {
      "name": "python"
    }
  },
  "cells": [
    {
      "cell_type": "code",
      "source": [
        "from sklearn.linear_model import LinearRegression\n",
        "from sklearn.model_selection import train_test_split\n",
        "import pandas as pd\n",
        "import matplotlib.pyplot as plt\n",
        "from pylab import rcParams\n",
        "rcParams['figure.figsize'] = 11,7"
      ],
      "metadata": {
        "id": "LzsVObfw1Zbe"
      },
      "execution_count": null,
      "outputs": []
    },
    {
      "cell_type": "markdown",
      "source": [
        "###**Задание 1**\n",
        "\n",
        "---\n",
        "###**Task 1**"
      ],
      "metadata": {
        "id": "n--FeL200qbS"
      }
    },
    {
      "cell_type": "markdown",
      "source": [
        "**Ответить на вопрос: есть ли связь между жёсткостью воды и средней годовой смертностью?**  \n",
        "- Построить точечный график  \n",
        "- Рассчитать коэффициенты корреляции Пирсона и Спирмена  \n",
        "- Построить модель линейной регрессии  \n",
        "- Рассчитать коэффициент детерминации  \n",
        "- Вывести график остатков\n",
        "\n",
        "---\n",
        "**Answer the question: Is there a relationship between water hardness and average annual mortality?**  \n",
        "- Build a dot graph  \n",
        "- Calculate Pearson and Spearman correlation coefficients  \n",
        "- Build a linear regression model  \n",
        "- Calculate the coefficient of determination  \n",
        "- Display a graph of balances"
      ],
      "metadata": {
        "id": "cL4MFCWt0yKR"
      }
    },
    {
      "cell_type": "code",
      "execution_count": null,
      "metadata": {
        "colab": {
          "base_uri": "https://localhost:8080/",
          "height": 206
        },
        "id": "VRltA825zszq",
        "outputId": "b1c2a9d0-b526-43d7-8cac-b2e2ef0ef0b4"
      },
      "outputs": [
        {
          "output_type": "execute_result",
          "data": {
            "text/plain": [
              "  Положение       Город  Смертность  Жёсткость\n",
              "0     South        Bath        1247        105\n",
              "1     North  Birkenhead        1668         17\n",
              "2     South  Birmingham        1466          5\n",
              "3     North   Blackburn        1800         14\n",
              "4     North   Blackpool        1609         18"
            ],
            "text/html": [
              "\n",
              "  <div id=\"df-d6be24e3-9556-4ac2-bbd1-fb9c224541e0\">\n",
              "    <div class=\"colab-df-container\">\n",
              "      <div>\n",
              "<style scoped>\n",
              "    .dataframe tbody tr th:only-of-type {\n",
              "        vertical-align: middle;\n",
              "    }\n",
              "\n",
              "    .dataframe tbody tr th {\n",
              "        vertical-align: top;\n",
              "    }\n",
              "\n",
              "    .dataframe thead th {\n",
              "        text-align: right;\n",
              "    }\n",
              "</style>\n",
              "<table border=\"1\" class=\"dataframe\">\n",
              "  <thead>\n",
              "    <tr style=\"text-align: right;\">\n",
              "      <th></th>\n",
              "      <th>Положение</th>\n",
              "      <th>Город</th>\n",
              "      <th>Смертность</th>\n",
              "      <th>Жёсткость</th>\n",
              "    </tr>\n",
              "  </thead>\n",
              "  <tbody>\n",
              "    <tr>\n",
              "      <th>0</th>\n",
              "      <td>South</td>\n",
              "      <td>Bath</td>\n",
              "      <td>1247</td>\n",
              "      <td>105</td>\n",
              "    </tr>\n",
              "    <tr>\n",
              "      <th>1</th>\n",
              "      <td>North</td>\n",
              "      <td>Birkenhead</td>\n",
              "      <td>1668</td>\n",
              "      <td>17</td>\n",
              "    </tr>\n",
              "    <tr>\n",
              "      <th>2</th>\n",
              "      <td>South</td>\n",
              "      <td>Birmingham</td>\n",
              "      <td>1466</td>\n",
              "      <td>5</td>\n",
              "    </tr>\n",
              "    <tr>\n",
              "      <th>3</th>\n",
              "      <td>North</td>\n",
              "      <td>Blackburn</td>\n",
              "      <td>1800</td>\n",
              "      <td>14</td>\n",
              "    </tr>\n",
              "    <tr>\n",
              "      <th>4</th>\n",
              "      <td>North</td>\n",
              "      <td>Blackpool</td>\n",
              "      <td>1609</td>\n",
              "      <td>18</td>\n",
              "    </tr>\n",
              "  </tbody>\n",
              "</table>\n",
              "</div>\n",
              "      <button class=\"colab-df-convert\" onclick=\"convertToInteractive('df-d6be24e3-9556-4ac2-bbd1-fb9c224541e0')\"\n",
              "              title=\"Convert this dataframe to an interactive table.\"\n",
              "              style=\"display:none;\">\n",
              "        \n",
              "  <svg xmlns=\"http://www.w3.org/2000/svg\" height=\"24px\"viewBox=\"0 0 24 24\"\n",
              "       width=\"24px\">\n",
              "    <path d=\"M0 0h24v24H0V0z\" fill=\"none\"/>\n",
              "    <path d=\"M18.56 5.44l.94 2.06.94-2.06 2.06-.94-2.06-.94-.94-2.06-.94 2.06-2.06.94zm-11 1L8.5 8.5l.94-2.06 2.06-.94-2.06-.94L8.5 2.5l-.94 2.06-2.06.94zm10 10l.94 2.06.94-2.06 2.06-.94-2.06-.94-.94-2.06-.94 2.06-2.06.94z\"/><path d=\"M17.41 7.96l-1.37-1.37c-.4-.4-.92-.59-1.43-.59-.52 0-1.04.2-1.43.59L10.3 9.45l-7.72 7.72c-.78.78-.78 2.05 0 2.83L4 21.41c.39.39.9.59 1.41.59.51 0 1.02-.2 1.41-.59l7.78-7.78 2.81-2.81c.8-.78.8-2.07 0-2.86zM5.41 20L4 18.59l7.72-7.72 1.47 1.35L5.41 20z\"/>\n",
              "  </svg>\n",
              "      </button>\n",
              "      \n",
              "  <style>\n",
              "    .colab-df-container {\n",
              "      display:flex;\n",
              "      flex-wrap:wrap;\n",
              "      gap: 12px;\n",
              "    }\n",
              "\n",
              "    .colab-df-convert {\n",
              "      background-color: #E8F0FE;\n",
              "      border: none;\n",
              "      border-radius: 50%;\n",
              "      cursor: pointer;\n",
              "      display: none;\n",
              "      fill: #1967D2;\n",
              "      height: 32px;\n",
              "      padding: 0 0 0 0;\n",
              "      width: 32px;\n",
              "    }\n",
              "\n",
              "    .colab-df-convert:hover {\n",
              "      background-color: #E2EBFA;\n",
              "      box-shadow: 0px 1px 2px rgba(60, 64, 67, 0.3), 0px 1px 3px 1px rgba(60, 64, 67, 0.15);\n",
              "      fill: #174EA6;\n",
              "    }\n",
              "\n",
              "    [theme=dark] .colab-df-convert {\n",
              "      background-color: #3B4455;\n",
              "      fill: #D2E3FC;\n",
              "    }\n",
              "\n",
              "    [theme=dark] .colab-df-convert:hover {\n",
              "      background-color: #434B5C;\n",
              "      box-shadow: 0px 1px 3px 1px rgba(0, 0, 0, 0.15);\n",
              "      filter: drop-shadow(0px 1px 2px rgba(0, 0, 0, 0.3));\n",
              "      fill: #FFFFFF;\n",
              "    }\n",
              "  </style>\n",
              "\n",
              "      <script>\n",
              "        const buttonEl =\n",
              "          document.querySelector('#df-d6be24e3-9556-4ac2-bbd1-fb9c224541e0 button.colab-df-convert');\n",
              "        buttonEl.style.display =\n",
              "          google.colab.kernel.accessAllowed ? 'block' : 'none';\n",
              "\n",
              "        async function convertToInteractive(key) {\n",
              "          const element = document.querySelector('#df-d6be24e3-9556-4ac2-bbd1-fb9c224541e0');\n",
              "          const dataTable =\n",
              "            await google.colab.kernel.invokeFunction('convertToInteractive',\n",
              "                                                     [key], {});\n",
              "          if (!dataTable) return;\n",
              "\n",
              "          const docLinkHtml = 'Like what you see? Visit the ' +\n",
              "            '<a target=\"_blank\" href=https://colab.research.google.com/notebooks/data_table.ipynb>data table notebook</a>'\n",
              "            + ' to learn more about interactive tables.';\n",
              "          element.innerHTML = '';\n",
              "          dataTable['output_type'] = 'display_data';\n",
              "          await google.colab.output.renderOutput(dataTable, element);\n",
              "          const docLink = document.createElement('div');\n",
              "          docLink.innerHTML = docLinkHtml;\n",
              "          element.appendChild(docLink);\n",
              "        }\n",
              "      </script>\n",
              "    </div>\n",
              "  </div>\n",
              "  "
            ]
          },
          "metadata": {},
          "execution_count": 156
        }
      ],
      "source": [
        "# Загрузим только нужные столбцы и переименуем их:\n",
        "# -----------------------------------------------------------------------------\n",
        "# Load only the necessary columns and rename them:\n",
        "\n",
        "df = pd.read_csv('/content/drive/MyDrive/Файлы для домашних заданий/water.csv',\n",
        "                 header=0,\n",
        "                 usecols=[1, 2, 3, 4],\n",
        "                 names=['Положение', 'Город', 'Смертность', 'Жёсткость']\n",
        "                 )\n",
        "df.head()"
      ]
    },
    {
      "cell_type": "code",
      "source": [
        "df.info()"
      ],
      "metadata": {
        "colab": {
          "base_uri": "https://localhost:8080/"
        },
        "id": "yBweq-s01-9T",
        "outputId": "25d8c688-f6d4-477a-bef7-15a523694671"
      },
      "execution_count": null,
      "outputs": [
        {
          "output_type": "stream",
          "name": "stdout",
          "text": [
            "<class 'pandas.core.frame.DataFrame'>\n",
            "RangeIndex: 61 entries, 0 to 60\n",
            "Data columns (total 4 columns):\n",
            " #   Column      Non-Null Count  Dtype \n",
            "---  ------      --------------  ----- \n",
            " 0   Положение   61 non-null     object\n",
            " 1   Город       61 non-null     object\n",
            " 2   Смертность  61 non-null     int64 \n",
            " 3   Жёсткость   61 non-null     int64 \n",
            "dtypes: int64(2), object(2)\n",
            "memory usage: 2.0+ KB\n"
          ]
        }
      ]
    },
    {
      "cell_type": "code",
      "source": [
        "# Построим точечный график взаимосвязи между жёсткостью воды и средней\n",
        "# годовой смертностью:\n",
        "# -----------------------------------------------------------------------------\n",
        "# Let's plot a dot graph of the relationship between water hardness and average\n",
        "# annual mortality:\n",
        "\n",
        "df.plot(kind='scatter', x='Жёсткость', y='Смертность')\n",
        "plt.title('Взаимосвязь между жёсткостью воды' '\\n'\n",
        "          'и средней годовой смертностью',\n",
        "          fontsize=16, fontweight='bold', pad=20)\n",
        "plt.xlabel('Жёсткость воды', fontsize=14, fontweight='bold')\n",
        "plt.ylabel('Средняя годовая смертность на 100 000 населения',\n",
        "           fontsize=14, fontweight='bold')\n",
        "plt.xticks(fontsize=12)\n",
        "plt.yticks(fontsize=12)\n",
        "plt.show()"
      ],
      "metadata": {
        "colab": {
          "base_uri": "https://localhost:8080/",
          "height": 500
        },
        "id": "xC7p9o2X8SJY",
        "outputId": "593a9ae5-d38c-4079-c406-15e322565372"
      },
      "execution_count": null,
      "outputs": [
        {
          "output_type": "display_data",
          "data": {
            "text/plain": [
              "<Figure size 792x504 with 1 Axes>"
            ],
            "image/png": "[encoded data removed]"
          },
          "metadata": {
            "needs_background": "light"
          }
        }
      ]
    },
    {
      "cell_type": "markdown",
      "source": [
        "*Из данного графика мы не видим четкой зависимости смертности от жёсткости воды.  \n",
        "С большой натяжкой можно предположить, что в городах, где пьют более мягкую  \n",
        "воду, средняя годовая смертность несколько выше. Т.е. как бы присутствует  \n",
        "незначительная обратная связь. Хотя повышенная смертность может быть  \n",
        "обусловлена совершенно другими факторами, которые нам не известны  \n",
        "(например, загрязнение воздуха в городах).*\n",
        "\n",
        "\n",
        "---\n",
        "*From this graph, we do not see a clear dependence of mortality on water hardness.  \n",
        "It is a stretch to assume that in cities where they drink softer  \n",
        "water, the average annual mortality is slightly higher. I.e., as if there  \n",
        "is a slight feedback. Although increased mortality may be it is caused by  \n",
        "completely different factors that are unknown to us (for example, urban air  \n",
        "pollution).*\n",
        "\n"
      ],
      "metadata": {
        "id": "Xdrr-mxoNFiL"
      }
    },
    {
      "cell_type": "code",
      "source": [
        "# Рассчитаем коэффициент корреляции Пирсона:\n",
        "# -----------------------------------------------------------------------------\n",
        "# Calculate the Pearson correlation coefficient:\n",
        "\n",
        "df[['Жёсткость', 'Смертность']].corr()"
      ],
      "metadata": {
        "colab": {
          "base_uri": "https://localhost:8080/",
          "height": 112
        },
        "id": "uB-YF0vr-Nm5",
        "outputId": "7f0d4f1f-e804-46ae-fa4c-804f9d765411"
      },
      "execution_count": null,
      "outputs": [
        {
          "output_type": "execute_result",
          "data": {
            "text/plain": [
              "            Жёсткость  Смертность\n",
              "Жёсткость    1.000000   -0.654849\n",
              "Смертность  -0.654849    1.000000"
            ],
            "text/html": [
              "\n",
              "  <div id=\"df-7eb106a3-8f53-4548-bb16-01884bd72a4e\">\n",
              "    <div class=\"colab-df-container\">\n",
              "      <div>\n",
              "<style scoped>\n",
              "    .dataframe tbody tr th:only-of-type {\n",
              "        vertical-align: middle;\n",
              "    }\n",
              "\n",
              "    .dataframe tbody tr th {\n",
              "        vertical-align: top;\n",
              "    }\n",
              "\n",
              "    .dataframe thead th {\n",
              "        text-align: right;\n",
              "    }\n",
              "</style>\n",
              "<table border=\"1\" class=\"dataframe\">\n",
              "  <thead>\n",
              "    <tr style=\"text-align: right;\">\n",
              "      <th></th>\n",
              "      <th>Жёсткость</th>\n",
              "      <th>Смертность</th>\n",
              "    </tr>\n",
              "  </thead>\n",
              "  <tbody>\n",
              "    <tr>\n",
              "      <th>Жёсткость</th>\n",
              "      <td>1.000000</td>\n",
              "      <td>-0.654849</td>\n",
              "    </tr>\n",
              "    <tr>\n",
              "      <th>Смертность</th>\n",
              "      <td>-0.654849</td>\n",
              "      <td>1.000000</td>\n",
              "    </tr>\n",
              "  </tbody>\n",
              "</table>\n",
              "</div>\n",
              "      <button class=\"colab-df-convert\" onclick=\"convertToInteractive('df-7eb106a3-8f53-4548-bb16-01884bd72a4e')\"\n",
              "              title=\"Convert this dataframe to an interactive table.\"\n",
              "              style=\"display:none;\">\n",
              "        \n",
              "  <svg xmlns=\"http://www.w3.org/2000/svg\" height=\"24px\"viewBox=\"0 0 24 24\"\n",
              "       width=\"24px\">\n",
              "    <path d=\"M0 0h24v24H0V0z\" fill=\"none\"/>\n",
              "    <path d=\"M18.56 5.44l.94 2.06.94-2.06 2.06-.94-2.06-.94-.94-2.06-.94 2.06-2.06.94zm-11 1L8.5 8.5l.94-2.06 2.06-.94-2.06-.94L8.5 2.5l-.94 2.06-2.06.94zm10 10l.94 2.06.94-2.06 2.06-.94-2.06-.94-.94-2.06-.94 2.06-2.06.94z\"/><path d=\"M17.41 7.96l-1.37-1.37c-.4-.4-.92-.59-1.43-.59-.52 0-1.04.2-1.43.59L10.3 9.45l-7.72 7.72c-.78.78-.78 2.05 0 2.83L4 21.41c.39.39.9.59 1.41.59.51 0 1.02-.2 1.41-.59l7.78-7.78 2.81-2.81c.8-.78.8-2.07 0-2.86zM5.41 20L4 18.59l7.72-7.72 1.47 1.35L5.41 20z\"/>\n",
              "  </svg>\n",
              "      </button>\n",
              "      \n",
              "  <style>\n",
              "    .colab-df-container {\n",
              "      display:flex;\n",
              "      flex-wrap:wrap;\n",
              "      gap: 12px;\n",
              "    }\n",
              "\n",
              "    .colab-df-convert {\n",
              "      background-color: #E8F0FE;\n",
              "      border: none;\n",
              "      border-radius: 50%;\n",
              "      cursor: pointer;\n",
              "      display: none;\n",
              "      fill: #1967D2;\n",
              "      height: 32px;\n",
              "      padding: 0 0 0 0;\n",
              "      width: 32px;\n",
              "    }\n",
              "\n",
              "    .colab-df-convert:hover {\n",
              "      background-color: #E2EBFA;\n",
              "      box-shadow: 0px 1px 2px rgba(60, 64, 67, 0.3), 0px 1px 3px 1px rgba(60, 64, 67, 0.15);\n",
              "      fill: #174EA6;\n",
              "    }\n",
              "\n",
              "    [theme=dark] .colab-df-convert {\n",
              "      background-color: #3B4455;\n",
              "      fill: #D2E3FC;\n",
              "    }\n",
              "\n",
              "    [theme=dark] .colab-df-convert:hover {\n",
              "      background-color: #434B5C;\n",
              "      box-shadow: 0px 1px 3px 1px rgba(0, 0, 0, 0.15);\n",
              "      filter: drop-shadow(0px 1px 2px rgba(0, 0, 0, 0.3));\n",
              "      fill: #FFFFFF;\n",
              "    }\n",
              "  </style>\n",
              "\n",
              "      <script>\n",
              "        const buttonEl =\n",
              "          document.querySelector('#df-7eb106a3-8f53-4548-bb16-01884bd72a4e button.colab-df-convert');\n",
              "        buttonEl.style.display =\n",
              "          google.colab.kernel.accessAllowed ? 'block' : 'none';\n",
              "\n",
              "        async function convertToInteractive(key) {\n",
              "          const element = document.querySelector('#df-7eb106a3-8f53-4548-bb16-01884bd72a4e');\n",
              "          const dataTable =\n",
              "            await google.colab.kernel.invokeFunction('convertToInteractive',\n",
              "                                                     [key], {});\n",
              "          if (!dataTable) return;\n",
              "\n",
              "          const docLinkHtml = 'Like what you see? Visit the ' +\n",
              "            '<a target=\"_blank\" href=https://colab.research.google.com/notebooks/data_table.ipynb>data table notebook</a>'\n",
              "            + ' to learn more about interactive tables.';\n",
              "          element.innerHTML = '';\n",
              "          dataTable['output_type'] = 'display_data';\n",
              "          await google.colab.output.renderOutput(dataTable, element);\n",
              "          const docLink = document.createElement('div');\n",
              "          docLink.innerHTML = docLinkHtml;\n",
              "          element.appendChild(docLink);\n",
              "        }\n",
              "      </script>\n",
              "    </div>\n",
              "  </div>\n",
              "  "
            ]
          },
          "metadata": {},
          "execution_count": 159
        }
      ]
    },
    {
      "cell_type": "markdown",
      "source": [
        "*Данный коэффициент показывает, что между жесткостью воды и средней годовой  \n",
        "смертностью все же существует умеренная отрицательная связь. Данная связь совсем  \n",
        "не означает, что мягкая вода является причиной повышенной сметности.*\n",
        "\n",
        "---\n",
        "*This coefficient shows that there is still a moderate negative relationship  \n",
        "between water hardness and average annual mortality. This connection is  \n",
        "completely it does not mean that soft water is the cause of increased mortality.*"
      ],
      "metadata": {
        "id": "feMyJ6RWcER5"
      }
    },
    {
      "cell_type": "code",
      "source": [
        "# Рассчитаем коэффициент корреляции Спирмана:\n",
        "# -----------------------------------------------------------------------------\n",
        "# Calculate the Spearman correlation coefficient:\n",
        "\n",
        "df[['Жёсткость', 'Смертность']].corr(method='spearman')"
      ],
      "metadata": {
        "colab": {
          "base_uri": "https://localhost:8080/",
          "height": 112
        },
        "id": "NPkpxGAu-tu2",
        "outputId": "0f4150ee-ff85-4bb8-bcf2-8247b17f1ec6"
      },
      "execution_count": null,
      "outputs": [
        {
          "output_type": "execute_result",
          "data": {
            "text/plain": [
              "            Жёсткость  Смертность\n",
              "Жёсткость    1.000000   -0.631665\n",
              "Смертность  -0.631665    1.000000"
            ],
            "text/html": [
              "\n",
              "  <div id=\"df-3bf96777-a81b-46a2-9f38-85bd33907a14\">\n",
              "    <div class=\"colab-df-container\">\n",
              "      <div>\n",
              "<style scoped>\n",
              "    .dataframe tbody tr th:only-of-type {\n",
              "        vertical-align: middle;\n",
              "    }\n",
              "\n",
              "    .dataframe tbody tr th {\n",
              "        vertical-align: top;\n",
              "    }\n",
              "\n",
              "    .dataframe thead th {\n",
              "        text-align: right;\n",
              "    }\n",
              "</style>\n",
              "<table border=\"1\" class=\"dataframe\">\n",
              "  <thead>\n",
              "    <tr style=\"text-align: right;\">\n",
              "      <th></th>\n",
              "      <th>Жёсткость</th>\n",
              "      <th>Смертность</th>\n",
              "    </tr>\n",
              "  </thead>\n",
              "  <tbody>\n",
              "    <tr>\n",
              "      <th>Жёсткость</th>\n",
              "      <td>1.000000</td>\n",
              "      <td>-0.631665</td>\n",
              "    </tr>\n",
              "    <tr>\n",
              "      <th>Смертность</th>\n",
              "      <td>-0.631665</td>\n",
              "      <td>1.000000</td>\n",
              "    </tr>\n",
              "  </tbody>\n",
              "</table>\n",
              "</div>\n",
              "      <button class=\"colab-df-convert\" onclick=\"convertToInteractive('df-3bf96777-a81b-46a2-9f38-85bd33907a14')\"\n",
              "              title=\"Convert this dataframe to an interactive table.\"\n",
              "              style=\"display:none;\">\n",
              "        \n",
              "  <svg xmlns=\"http://www.w3.org/2000/svg\" height=\"24px\"viewBox=\"0 0 24 24\"\n",
              "       width=\"24px\">\n",
              "    <path d=\"M0 0h24v24H0V0z\" fill=\"none\"/>\n",
              "    <path d=\"M18.56 5.44l.94 2.06.94-2.06 2.06-.94-2.06-.94-.94-2.06-.94 2.06-2.06.94zm-11 1L8.5 8.5l.94-2.06 2.06-.94-2.06-.94L8.5 2.5l-.94 2.06-2.06.94zm10 10l.94 2.06.94-2.06 2.06-.94-2.06-.94-.94-2.06-.94 2.06-2.06.94z\"/><path d=\"M17.41 7.96l-1.37-1.37c-.4-.4-.92-.59-1.43-.59-.52 0-1.04.2-1.43.59L10.3 9.45l-7.72 7.72c-.78.78-.78 2.05 0 2.83L4 21.41c.39.39.9.59 1.41.59.51 0 1.02-.2 1.41-.59l7.78-7.78 2.81-2.81c.8-.78.8-2.07 0-2.86zM5.41 20L4 18.59l7.72-7.72 1.47 1.35L5.41 20z\"/>\n",
              "  </svg>\n",
              "      </button>\n",
              "      \n",
              "  <style>\n",
              "    .colab-df-container {\n",
              "      display:flex;\n",
              "      flex-wrap:wrap;\n",
              "      gap: 12px;\n",
              "    }\n",
              "\n",
              "    .colab-df-convert {\n",
              "      background-color: #E8F0FE;\n",
              "      border: none;\n",
              "      border-radius: 50%;\n",
              "      cursor: pointer;\n",
              "      display: none;\n",
              "      fill: #1967D2;\n",
              "      height: 32px;\n",
              "      padding: 0 0 0 0;\n",
              "      width: 32px;\n",
              "    }\n",
              "\n",
              "    .colab-df-convert:hover {\n",
              "      background-color: #E2EBFA;\n",
              "      box-shadow: 0px 1px 2px rgba(60, 64, 67, 0.3), 0px 1px 3px 1px rgba(60, 64, 67, 0.15);\n",
              "      fill: #174EA6;\n",
              "    }\n",
              "\n",
              "    [theme=dark] .colab-df-convert {\n",
              "      background-color: #3B4455;\n",
              "      fill: #D2E3FC;\n",
              "    }\n",
              "\n",
              "    [theme=dark] .colab-df-convert:hover {\n",
              "      background-color: #434B5C;\n",
              "      box-shadow: 0px 1px 3px 1px rgba(0, 0, 0, 0.15);\n",
              "      filter: drop-shadow(0px 1px 2px rgba(0, 0, 0, 0.3));\n",
              "      fill: #FFFFFF;\n",
              "    }\n",
              "  </style>\n",
              "\n",
              "      <script>\n",
              "        const buttonEl =\n",
              "          document.querySelector('#df-3bf96777-a81b-46a2-9f38-85bd33907a14 button.colab-df-convert');\n",
              "        buttonEl.style.display =\n",
              "          google.colab.kernel.accessAllowed ? 'block' : 'none';\n",
              "\n",
              "        async function convertToInteractive(key) {\n",
              "          const element = document.querySelector('#df-3bf96777-a81b-46a2-9f38-85bd33907a14');\n",
              "          const dataTable =\n",
              "            await google.colab.kernel.invokeFunction('convertToInteractive',\n",
              "                                                     [key], {});\n",
              "          if (!dataTable) return;\n",
              "\n",
              "          const docLinkHtml = 'Like what you see? Visit the ' +\n",
              "            '<a target=\"_blank\" href=https://colab.research.google.com/notebooks/data_table.ipynb>data table notebook</a>'\n",
              "            + ' to learn more about interactive tables.';\n",
              "          element.innerHTML = '';\n",
              "          dataTable['output_type'] = 'display_data';\n",
              "          await google.colab.output.renderOutput(dataTable, element);\n",
              "          const docLink = document.createElement('div');\n",
              "          docLink.innerHTML = docLinkHtml;\n",
              "          element.appendChild(docLink);\n",
              "        }\n",
              "      </script>\n",
              "    </div>\n",
              "  </div>\n",
              "  "
            ]
          },
          "metadata": {},
          "execution_count": 160
        }
      ]
    },
    {
      "cell_type": "markdown",
      "source": [
        "*Данный коэффициент также показывает наличие умеренной отрицательной  \n",
        "корреляционной зависимости между жёсткостью воды и средней годовой  \n",
        "cмертностью. Т.е. можно предположить, что в городах, где пьют более мягкую воду  \n",
        "средняя годовая смертность несколько выше. Хотя это совершенно не означает, что  \n",
        "мягкая вода является причиной повышенной смертности. Чтобы говорить, что  \n",
        "существует именно такая взаимосвязь, мы должны знать и другие параметры,  \n",
        "которые могут  влиять на среднюю годовую смертность. Причем эти прочие   \n",
        "параметры должны быть равны между собой.*\n",
        "\n",
        "---\n",
        "*This coefficient also shows the presence of a moderate negative correlation  \n",
        "between water hardness and average annual mortality. I.e., it can be assumed  \n",
        "that in cities where they drink softer water the average annual mortality is  \n",
        "slightly higher. Although this does not mean at all that soft water is the  \n",
        "cause of increased mortality. To say that there is just such a relationship, we  \n",
        "need to know other parameters that can affect the average annual mortality.  \n",
        "Moreover, these other parameters should be equal to each other.*"
      ],
      "metadata": {
        "id": "oG8c8LowcarF"
      }
    },
    {
      "cell_type": "code",
      "source": [
        "# Сформируем признаки и целевую переменную:\n",
        "# -----------------------------------------------------------------------------\n",
        "# Let's form the attributes and the target variable:\n",
        "\n",
        "X = df[['Жёсткость']]\n",
        "Y = df['Смертность']"
      ],
      "metadata": {
        "id": "enWOanu9NY7A"
      },
      "execution_count": null,
      "outputs": []
    },
    {
      "cell_type": "code",
      "source": [
        "# Разделим данные на выборку для обучения и проверки.\n",
        "# В следствие того, что у нас небольшой объем данных, размер тестовой выбоки\n",
        "# ограничим 20 %.\n",
        "# -----------------------------------------------------------------------------\n",
        "# Divide the data into a sample for training and verification.\n",
        "# Due to the fact that we have a small amount of data, the size of the test\n",
        "# samplelet's limit it to 20%.\n",
        "\n",
        "X_train, X_test, Y_train, Y_test = train_test_split(X, Y, test_size=0.20,\n",
        "                                                    random_state=42)"
      ],
      "metadata": {
        "id": "uTCIPP6YOYRo"
      },
      "execution_count": null,
      "outputs": []
    },
    {
      "cell_type": "code",
      "source": [
        "# Создадим и обучим модель линейной регрессии:\n",
        "# -----------------------------------------------------------------------------\n",
        "# Create and train a linear regression model:\n",
        "\n",
        "model = LinearRegression()\n",
        "model.fit(X_train, Y_train)"
      ],
      "metadata": {
        "id": "N7wlIBy7QrXI"
      },
      "execution_count": null,
      "outputs": []
    },
    {
      "cell_type": "code",
      "source": [
        "# Посмотрим прогнозные данные:\n",
        "# -----------------------------------------------------------------------------\n",
        "# Let's look at the forecast data:\n",
        "\n",
        "Y_pred = model.predict(X_test)\n",
        "print(Y_pred.round())"
      ],
      "metadata": {
        "colab": {
          "base_uri": "https://localhost:8080/"
        },
        "id": "dikKo_YzWmGo",
        "outputId": "f60603b0-e078-4d19-fab9-e0539c946a56"
      },
      "execution_count": null,
      "outputs": [
        {
          "output_type": "stream",
          "name": "stdout",
          "text": [
            "[1339. 1651. 1638. 1539. 1428. 1618. 1247. 1438. 1615. 1664. 1490. 1418.\n",
            " 1556.]\n"
          ]
        }
      ]
    },
    {
      "cell_type": "code",
      "source": [
        "# Рассчитаем коэффициент детерминации:\n",
        "# -----------------------------------------------------------------------------\n",
        "# Calculate the coefficient of determination:\n",
        "\n",
        "model.score(X_test, Y_test)"
      ],
      "metadata": {
        "colab": {
          "base_uri": "https://localhost:8080/"
        },
        "id": "yz1FWSGEWYRp",
        "outputId": "1ee46635-ab8d-4304-f59e-5040ca5540ef"
      },
      "execution_count": null,
      "outputs": [
        {
          "output_type": "execute_result",
          "data": {
            "text/plain": [
              "0.5099679408034544"
            ]
          },
          "metadata": {},
          "execution_count": 165
        }
      ]
    },
    {
      "cell_type": "markdown",
      "source": [
        "*Мы видим, что коэффициэнт детерминации подтверждает умеренную связь между  \n",
        "жёсткостью воды и средней годовой смертностью населения. Можем сказать, что  \n",
        "наша модель приемлема, хотя 50 % - это нижний порог определения точности модели.*\n",
        "\n",
        "---\n",
        "*We see that the coefficient of determination confirms a moderate relationship  \n",
        "between water hardness and the average annual mortality of the population. We  \n",
        "can say that our model is acceptable, although 50% is the lower threshold for  \n",
        "determining the accuracy of the model.*"
      ],
      "metadata": {
        "id": "BZPwiTOBYfDg"
      }
    },
    {
      "cell_type": "code",
      "source": [
        "# Построим график нашей модели линейной регрессии:\n",
        "# -----------------------------------------------------------------------------\n",
        "# Let's plot our linear regression model:\n",
        "\n",
        "plt.scatter(X_train, Y_train)\n",
        "plt.plot(X_test, Y_pred, c='r')\n",
        "plt.title('График линейной регрессии', fontsize=16, fontweight='bold', pad=20)\n",
        "plt.xlabel('Жёсткость воды', fontsize=14, fontweight='bold')\n",
        "plt.ylabel('Средняя годовая смертность на 100 000 населения',\n",
        "           fontsize=14, fontweight='bold')\n",
        "plt.xticks(fontsize=12)\n",
        "plt.yticks(fontsize=12)\n",
        "plt.show()"
      ],
      "metadata": {
        "colab": {
          "base_uri": "https://localhost:8080/",
          "height": 482
        },
        "id": "Nx9LwzH3ZWtx",
        "outputId": "b3473fa1-d7bb-407d-87b6-7404adb303e9"
      },
      "execution_count": null,
      "outputs": [
        {
          "output_type": "display_data",
          "data": {
            "text/plain": [
              "<Figure size 792x504 with 1 Axes>"
            ],
            "image/png": "[encoded data removed]"
          },
          "metadata": {
            "needs_background": "light"
          }
        }
      ]
    },
    {
      "cell_type": "markdown",
      "source": [
        "*По графику можно сказать, что наша модель линейной регрессии подходит  \n",
        "для используемого набора данных.*\n",
        "\n",
        "---\n",
        "*According to the graph, we can say that our linear regression model is suitable  \n",
        "for the data set used.*"
      ],
      "metadata": {
        "id": "yF80n61VvPRu"
      }
    },
    {
      "cell_type": "code",
      "source": [
        "# Найдем остатки:\n",
        "# -----------------------------------------------------------------------------\n",
        "# Find the remnants:\n",
        "\n",
        "residuals = Y_test - Y_pred"
      ],
      "metadata": {
        "id": "kaR4cO6OQJGc"
      },
      "execution_count": null,
      "outputs": []
    },
    {
      "cell_type": "code",
      "source": [
        "# Построим график остатков:\n",
        "# -----------------------------------------------------------------------------\n",
        "# Let's plot the residuals:\n",
        "\n",
        "plt.scatter(residuals, Y_pred)\n",
        "plt.axvline(x = 0, c='r', linestyle = '-')\n",
        "plt.title('График остатков', fontsize=16, fontweight='bold', pad=20)\n",
        "plt.xlabel('Остатки',\n",
        "           fontsize=14, fontweight='bold')\n",
        "plt.ylabel('Прогноз',\n",
        "           fontsize=14, fontweight='bold')\n",
        "plt.xticks(fontsize=12)\n",
        "plt.yticks(fontsize=12)\n",
        "plt.show()"
      ],
      "metadata": {
        "colab": {
          "base_uri": "https://localhost:8080/",
          "height": 482
        },
        "id": "uVwz3emXRgT-",
        "outputId": "097bbea9-d603-4baf-cc7e-83d23c5029bb"
      },
      "execution_count": null,
      "outputs": [
        {
          "output_type": "display_data",
          "data": {
            "text/plain": [
              "<Figure size 792x504 with 1 Axes>"
            ],
            "image/png": "[encoded data removed]"
          },
          "metadata": {
            "needs_background": "light"
          }
        }
      ]
    },
    {
      "cell_type": "markdown",
      "source": [
        "*Мы видим, что наши остатки ведут себя достаточно хаотично, в них нет  \n",
        "систематической сотавляющей и каких-либо закономерностей. На основании этого  \n",
        "можно сказать, что наша модель подобрана достаточно правильно.*\n",
        "\n",
        "---\n",
        "*We see that our remnants behave quite chaotically, there is no systematic  \n",
        "component in them and there are no patterns. Based on this we can say that our  \n",
        "model is selected quite correctly.*"
      ],
      "metadata": {
        "id": "e7VWCRgrY19E"
      }
    },
    {
      "cell_type": "markdown",
      "source": [
        "###**Задание 2**\n",
        "\n",
        "---\n",
        "###**Task 2**"
      ],
      "metadata": {
        "id": "z3tT9VMqW-Nd"
      }
    },
    {
      "cell_type": "markdown",
      "source": [
        "**Ответить на вопрос: сохраняется ли аналогичная зависимость для  \n",
        "северных и южных городов по отдельности?**  \n",
        "- Разделить данные на 2 группы  \n",
        "- Повторить аналогичные шаги из пункта 1 для каждой группы по отдельности\n",
        "\n",
        "---\n",
        "**Answer the question: is there a similar dependence for northern and southern  \n",
        "cities separately?**  \n",
        "- Divide the data into 2 groups  \n",
        "- Repeat the same steps from point 1 for each group separately"
      ],
      "metadata": {
        "id": "-22xZ6ClXCQ4"
      }
    },
    {
      "cell_type": "code",
      "source": [
        "# Разделим данные на южные города:\n",
        "# -----------------------------------------------------------------------------\n",
        "# Divide the data into southern cities:\n",
        "\n",
        "df_south = df.loc[df['Положение'] == 'South']\n",
        "df_south.head()"
      ],
      "metadata": {
        "colab": {
          "base_uri": "https://localhost:8080/",
          "height": 206
        },
        "id": "utt2gImSV_5u",
        "outputId": "463815e8-139a-44e9-a444-96d105be751e"
      },
      "execution_count": null,
      "outputs": [
        {
          "output_type": "execute_result",
          "data": {
            "text/plain": [
              "   Положение        Город  Смертность  Жёсткость\n",
              "0      South         Bath        1247        105\n",
              "2      South   Birmingham        1466          5\n",
              "7      South  Bournemouth        1299         78\n",
              "9      South     Brighton        1359         84\n",
              "10     South      Bristol        1392         73"
            ],
            "text/html": [
              "\n",
              "  <div id=\"df-ae9c9a08-2c49-4a13-a5db-8ffc7a95c405\">\n",
              "    <div class=\"colab-df-container\">\n",
              "      <div>\n",
              "<style scoped>\n",
              "    .dataframe tbody tr th:only-of-type {\n",
              "        vertical-align: middle;\n",
              "    }\n",
              "\n",
              "    .dataframe tbody tr th {\n",
              "        vertical-align: top;\n",
              "    }\n",
              "\n",
              "    .dataframe thead th {\n",
              "        text-align: right;\n",
              "    }\n",
              "</style>\n",
              "<table border=\"1\" class=\"dataframe\">\n",
              "  <thead>\n",
              "    <tr style=\"text-align: right;\">\n",
              "      <th></th>\n",
              "      <th>Положение</th>\n",
              "      <th>Город</th>\n",
              "      <th>Смертность</th>\n",
              "      <th>Жёсткость</th>\n",
              "    </tr>\n",
              "  </thead>\n",
              "  <tbody>\n",
              "    <tr>\n",
              "      <th>0</th>\n",
              "      <td>South</td>\n",
              "      <td>Bath</td>\n",
              "      <td>1247</td>\n",
              "      <td>105</td>\n",
              "    </tr>\n",
              "    <tr>\n",
              "      <th>2</th>\n",
              "      <td>South</td>\n",
              "      <td>Birmingham</td>\n",
              "      <td>1466</td>\n",
              "      <td>5</td>\n",
              "    </tr>\n",
              "    <tr>\n",
              "      <th>7</th>\n",
              "      <td>South</td>\n",
              "      <td>Bournemouth</td>\n",
              "      <td>1299</td>\n",
              "      <td>78</td>\n",
              "    </tr>\n",
              "    <tr>\n",
              "      <th>9</th>\n",
              "      <td>South</td>\n",
              "      <td>Brighton</td>\n",
              "      <td>1359</td>\n",
              "      <td>84</td>\n",
              "    </tr>\n",
              "    <tr>\n",
              "      <th>10</th>\n",
              "      <td>South</td>\n",
              "      <td>Bristol</td>\n",
              "      <td>1392</td>\n",
              "      <td>73</td>\n",
              "    </tr>\n",
              "  </tbody>\n",
              "</table>\n",
              "</div>\n",
              "      <button class=\"colab-df-convert\" onclick=\"convertToInteractive('df-ae9c9a08-2c49-4a13-a5db-8ffc7a95c405')\"\n",
              "              title=\"Convert this dataframe to an interactive table.\"\n",
              "              style=\"display:none;\">\n",
              "        \n",
              "  <svg xmlns=\"http://www.w3.org/2000/svg\" height=\"24px\"viewBox=\"0 0 24 24\"\n",
              "       width=\"24px\">\n",
              "    <path d=\"M0 0h24v24H0V0z\" fill=\"none\"/>\n",
              "    <path d=\"M18.56 5.44l.94 2.06.94-2.06 2.06-.94-2.06-.94-.94-2.06-.94 2.06-2.06.94zm-11 1L8.5 8.5l.94-2.06 2.06-.94-2.06-.94L8.5 2.5l-.94 2.06-2.06.94zm10 10l.94 2.06.94-2.06 2.06-.94-2.06-.94-.94-2.06-.94 2.06-2.06.94z\"/><path d=\"M17.41 7.96l-1.37-1.37c-.4-.4-.92-.59-1.43-.59-.52 0-1.04.2-1.43.59L10.3 9.45l-7.72 7.72c-.78.78-.78 2.05 0 2.83L4 21.41c.39.39.9.59 1.41.59.51 0 1.02-.2 1.41-.59l7.78-7.78 2.81-2.81c.8-.78.8-2.07 0-2.86zM5.41 20L4 18.59l7.72-7.72 1.47 1.35L5.41 20z\"/>\n",
              "  </svg>\n",
              "      </button>\n",
              "      \n",
              "  <style>\n",
              "    .colab-df-container {\n",
              "      display:flex;\n",
              "      flex-wrap:wrap;\n",
              "      gap: 12px;\n",
              "    }\n",
              "\n",
              "    .colab-df-convert {\n",
              "      background-color: #E8F0FE;\n",
              "      border: none;\n",
              "      border-radius: 50%;\n",
              "      cursor: pointer;\n",
              "      display: none;\n",
              "      fill: #1967D2;\n",
              "      height: 32px;\n",
              "      padding: 0 0 0 0;\n",
              "      width: 32px;\n",
              "    }\n",
              "\n",
              "    .colab-df-convert:hover {\n",
              "      background-color: #E2EBFA;\n",
              "      box-shadow: 0px 1px 2px rgba(60, 64, 67, 0.3), 0px 1px 3px 1px rgba(60, 64, 67, 0.15);\n",
              "      fill: #174EA6;\n",
              "    }\n",
              "\n",
              "    [theme=dark] .colab-df-convert {\n",
              "      background-color: #3B4455;\n",
              "      fill: #D2E3FC;\n",
              "    }\n",
              "\n",
              "    [theme=dark] .colab-df-convert:hover {\n",
              "      background-color: #434B5C;\n",
              "      box-shadow: 0px 1px 3px 1px rgba(0, 0, 0, 0.15);\n",
              "      filter: drop-shadow(0px 1px 2px rgba(0, 0, 0, 0.3));\n",
              "      fill: #FFFFFF;\n",
              "    }\n",
              "  </style>\n",
              "\n",
              "      <script>\n",
              "        const buttonEl =\n",
              "          document.querySelector('#df-ae9c9a08-2c49-4a13-a5db-8ffc7a95c405 button.colab-df-convert');\n",
              "        buttonEl.style.display =\n",
              "          google.colab.kernel.accessAllowed ? 'block' : 'none';\n",
              "\n",
              "        async function convertToInteractive(key) {\n",
              "          const element = document.querySelector('#df-ae9c9a08-2c49-4a13-a5db-8ffc7a95c405');\n",
              "          const dataTable =\n",
              "            await google.colab.kernel.invokeFunction('convertToInteractive',\n",
              "                                                     [key], {});\n",
              "          if (!dataTable) return;\n",
              "\n",
              "          const docLinkHtml = 'Like what you see? Visit the ' +\n",
              "            '<a target=\"_blank\" href=https://colab.research.google.com/notebooks/data_table.ipynb>data table notebook</a>'\n",
              "            + ' to learn more about interactive tables.';\n",
              "          element.innerHTML = '';\n",
              "          dataTable['output_type'] = 'display_data';\n",
              "          await google.colab.output.renderOutput(dataTable, element);\n",
              "          const docLink = document.createElement('div');\n",
              "          docLink.innerHTML = docLinkHtml;\n",
              "          element.appendChild(docLink);\n",
              "        }\n",
              "      </script>\n",
              "    </div>\n",
              "  </div>\n",
              "  "
            ]
          },
          "metadata": {},
          "execution_count": 169
        }
      ]
    },
    {
      "cell_type": "code",
      "source": [
        "# и северные города:\n",
        "# -----------------------------------------------------------------------------\n",
        "# and northern cities:\n",
        "\n",
        "df_north = df.loc[df['Положение'] == 'North']\n",
        "df_north.head()"
      ],
      "metadata": {
        "colab": {
          "base_uri": "https://localhost:8080/",
          "height": 206
        },
        "id": "3_lmZVIzWVcX",
        "outputId": "b14f40a0-f1b2-47b7-a3bc-674743353406"
      },
      "execution_count": null,
      "outputs": [
        {
          "output_type": "execute_result",
          "data": {
            "text/plain": [
              "  Положение       Город  Смертность  Жёсткость\n",
              "1     North  Birkenhead        1668         17\n",
              "3     North   Blackburn        1800         14\n",
              "4     North   Blackpool        1609         18\n",
              "5     North      Bolton        1558         10\n",
              "6     North      Bootle        1807         15"
            ],
            "text/html": [
              "\n",
              "  <div id=\"df-790dd280-2453-4813-aee8-11eb284e85cb\">\n",
              "    <div class=\"colab-df-container\">\n",
              "      <div>\n",
              "<style scoped>\n",
              "    .dataframe tbody tr th:only-of-type {\n",
              "        vertical-align: middle;\n",
              "    }\n",
              "\n",
              "    .dataframe tbody tr th {\n",
              "        vertical-align: top;\n",
              "    }\n",
              "\n",
              "    .dataframe thead th {\n",
              "        text-align: right;\n",
              "    }\n",
              "</style>\n",
              "<table border=\"1\" class=\"dataframe\">\n",
              "  <thead>\n",
              "    <tr style=\"text-align: right;\">\n",
              "      <th></th>\n",
              "      <th>Положение</th>\n",
              "      <th>Город</th>\n",
              "      <th>Смертность</th>\n",
              "      <th>Жёсткость</th>\n",
              "    </tr>\n",
              "  </thead>\n",
              "  <tbody>\n",
              "    <tr>\n",
              "      <th>1</th>\n",
              "      <td>North</td>\n",
              "      <td>Birkenhead</td>\n",
              "      <td>1668</td>\n",
              "      <td>17</td>\n",
              "    </tr>\n",
              "    <tr>\n",
              "      <th>3</th>\n",
              "      <td>North</td>\n",
              "      <td>Blackburn</td>\n",
              "      <td>1800</td>\n",
              "      <td>14</td>\n",
              "    </tr>\n",
              "    <tr>\n",
              "      <th>4</th>\n",
              "      <td>North</td>\n",
              "      <td>Blackpool</td>\n",
              "      <td>1609</td>\n",
              "      <td>18</td>\n",
              "    </tr>\n",
              "    <tr>\n",
              "      <th>5</th>\n",
              "      <td>North</td>\n",
              "      <td>Bolton</td>\n",
              "      <td>1558</td>\n",
              "      <td>10</td>\n",
              "    </tr>\n",
              "    <tr>\n",
              "      <th>6</th>\n",
              "      <td>North</td>\n",
              "      <td>Bootle</td>\n",
              "      <td>1807</td>\n",
              "      <td>15</td>\n",
              "    </tr>\n",
              "  </tbody>\n",
              "</table>\n",
              "</div>\n",
              "      <button class=\"colab-df-convert\" onclick=\"convertToInteractive('df-790dd280-2453-4813-aee8-11eb284e85cb')\"\n",
              "              title=\"Convert this dataframe to an interactive table.\"\n",
              "              style=\"display:none;\">\n",
              "        \n",
              "  <svg xmlns=\"http://www.w3.org/2000/svg\" height=\"24px\"viewBox=\"0 0 24 24\"\n",
              "       width=\"24px\">\n",
              "    <path d=\"M0 0h24v24H0V0z\" fill=\"none\"/>\n",
              "    <path d=\"M18.56 5.44l.94 2.06.94-2.06 2.06-.94-2.06-.94-.94-2.06-.94 2.06-2.06.94zm-11 1L8.5 8.5l.94-2.06 2.06-.94-2.06-.94L8.5 2.5l-.94 2.06-2.06.94zm10 10l.94 2.06.94-2.06 2.06-.94-2.06-.94-.94-2.06-.94 2.06-2.06.94z\"/><path d=\"M17.41 7.96l-1.37-1.37c-.4-.4-.92-.59-1.43-.59-.52 0-1.04.2-1.43.59L10.3 9.45l-7.72 7.72c-.78.78-.78 2.05 0 2.83L4 21.41c.39.39.9.59 1.41.59.51 0 1.02-.2 1.41-.59l7.78-7.78 2.81-2.81c.8-.78.8-2.07 0-2.86zM5.41 20L4 18.59l7.72-7.72 1.47 1.35L5.41 20z\"/>\n",
              "  </svg>\n",
              "      </button>\n",
              "      \n",
              "  <style>\n",
              "    .colab-df-container {\n",
              "      display:flex;\n",
              "      flex-wrap:wrap;\n",
              "      gap: 12px;\n",
              "    }\n",
              "\n",
              "    .colab-df-convert {\n",
              "      background-color: #E8F0FE;\n",
              "      border: none;\n",
              "      border-radius: 50%;\n",
              "      cursor: pointer;\n",
              "      display: none;\n",
              "      fill: #1967D2;\n",
              "      height: 32px;\n",
              "      padding: 0 0 0 0;\n",
              "      width: 32px;\n",
              "    }\n",
              "\n",
              "    .colab-df-convert:hover {\n",
              "      background-color: #E2EBFA;\n",
              "      box-shadow: 0px 1px 2px rgba(60, 64, 67, 0.3), 0px 1px 3px 1px rgba(60, 64, 67, 0.15);\n",
              "      fill: #174EA6;\n",
              "    }\n",
              "\n",
              "    [theme=dark] .colab-df-convert {\n",
              "      background-color: #3B4455;\n",
              "      fill: #D2E3FC;\n",
              "    }\n",
              "\n",
              "    [theme=dark] .colab-df-convert:hover {\n",
              "      background-color: #434B5C;\n",
              "      box-shadow: 0px 1px 3px 1px rgba(0, 0, 0, 0.15);\n",
              "      filter: drop-shadow(0px 1px 2px rgba(0, 0, 0, 0.3));\n",
              "      fill: #FFFFFF;\n",
              "    }\n",
              "  </style>\n",
              "\n",
              "      <script>\n",
              "        const buttonEl =\n",
              "          document.querySelector('#df-790dd280-2453-4813-aee8-11eb284e85cb button.colab-df-convert');\n",
              "        buttonEl.style.display =\n",
              "          google.colab.kernel.accessAllowed ? 'block' : 'none';\n",
              "\n",
              "        async function convertToInteractive(key) {\n",
              "          const element = document.querySelector('#df-790dd280-2453-4813-aee8-11eb284e85cb');\n",
              "          const dataTable =\n",
              "            await google.colab.kernel.invokeFunction('convertToInteractive',\n",
              "                                                     [key], {});\n",
              "          if (!dataTable) return;\n",
              "\n",
              "          const docLinkHtml = 'Like what you see? Visit the ' +\n",
              "            '<a target=\"_blank\" href=https://colab.research.google.com/notebooks/data_table.ipynb>data table notebook</a>'\n",
              "            + ' to learn more about interactive tables.';\n",
              "          element.innerHTML = '';\n",
              "          dataTable['output_type'] = 'display_data';\n",
              "          await google.colab.output.renderOutput(dataTable, element);\n",
              "          const docLink = document.createElement('div');\n",
              "          docLink.innerHTML = docLinkHtml;\n",
              "          element.appendChild(docLink);\n",
              "        }\n",
              "      </script>\n",
              "    </div>\n",
              "  </div>\n",
              "  "
            ]
          },
          "metadata": {},
          "execution_count": 170
        }
      ]
    },
    {
      "cell_type": "markdown",
      "source": [
        "<i>**Проведем описанный выше анализ для каждой группы городов. Для наглядности  \n",
        "шаги будем выполнять попарно.**</i>\n",
        "\n",
        "---\n",
        "<i>**We will carry out the analysis described above for each group of cities. For  \n",
        "clarity, we will perform the steps in pairs.**</i>"
      ],
      "metadata": {
        "id": "iWYs8A3Qw9Z1"
      }
    },
    {
      "cell_type": "code",
      "source": [
        "# Построим точечный график взаимосвязи между жёсткостью воды и средней\n",
        "# годовой смертностью для южных городов:\n",
        "# -----------------------------------------------------------------------------\n",
        "# Let's plot a dot graph of the relationship between water hardness and average\n",
        "# annual mortality rate for southern cities:\n",
        "\n",
        "df_south.plot(kind='scatter', x='Жёсткость', y='Смертность')\n",
        "plt.title('Взаимосвязь между жёсткостью воды' '\\n'\n",
        "          'и средней годовой смертностью в южных городах',\n",
        "          fontsize=16, fontweight='bold', pad=20)\n",
        "plt.xlabel('Жёсткость воды', fontsize=14, fontweight='bold')\n",
        "plt.ylabel('Средняя годовая смертность на 100 000 населения',\n",
        "           fontsize=14, fontweight='bold')\n",
        "plt.xticks(fontsize=12)\n",
        "plt.yticks(fontsize=12)\n",
        "plt.show()"
      ],
      "metadata": {
        "colab": {
          "base_uri": "https://localhost:8080/",
          "height": 500
        },
        "id": "0GDJS-HVw7Ld",
        "outputId": "a1f1535b-d639-4be4-e5ae-b411271be193"
      },
      "execution_count": null,
      "outputs": [
        {
          "output_type": "display_data",
          "data": {
            "text/plain": [
              "<Figure size 792x504 with 1 Axes>"
            ],
            "image/png": "[encoded data removed]"
          },
          "metadata": {
            "needs_background": "light"
          }
        }
      ]
    },
    {
      "cell_type": "code",
      "source": [
        "# и северных городов:\n",
        "# -----------------------------------------------------------------------------\n",
        "# and northern cities:\n",
        "\n",
        "df_north.plot(kind='scatter', x='Жёсткость', y='Смертность')\n",
        "plt.title('Взаимосвязь между жёсткостью воды' '\\n'\n",
        "          'и средней годовой смертностью в северных городах',\n",
        "          fontsize=16, fontweight='bold', pad=20)\n",
        "plt.xlabel('Жёсткость воды', fontsize=14, fontweight='bold')\n",
        "plt.ylabel('Средняя годовая смертность на 100 000 населения',\n",
        "           fontsize=14, fontweight='bold')\n",
        "plt.xticks(fontsize=12)\n",
        "plt.yticks(fontsize=12)\n",
        "plt.show()"
      ],
      "metadata": {
        "colab": {
          "base_uri": "https://localhost:8080/",
          "height": 500
        },
        "id": "QrapCLv9xv48",
        "outputId": "d4a407d4-1302-4641-e8a2-33adf8995868"
      },
      "execution_count": null,
      "outputs": [
        {
          "output_type": "display_data",
          "data": {
            "text/plain": [
              "<Figure size 792x504 with 1 Axes>"
            ],
            "image/png": "[encoded data removed]"
          },
          "metadata": {
            "needs_background": "light"
          }
        }
      ]
    },
    {
      "cell_type": "markdown",
      "source": [
        "*Из данных графиков мы видим, что в группе северных городов связь между данными  \n",
        "более схожа с общим графиком. График отражает незначительную обратную связь.  \n",
        "По группе южных городов практически невозможно говорить о какой-либо связи между  \n",
        "показателями.*\n",
        "\n",
        "---\n",
        "*From these graphs, we see that in the group of northern cities, the  \n",
        "relationship between the data it is more similar to the general schedule. The  \n",
        "graph reflects little feedback. For a group of southern cities, it is almost  \n",
        "impossible to talk about any connection between indicators.*"
      ],
      "metadata": {
        "id": "tHmK_3w4yGRW"
      }
    },
    {
      "cell_type": "code",
      "source": [
        "# Рассчитаем коэффициент корреляции Пирсона для южных городов:\n",
        "# -----------------------------------------------------------------------------\n",
        "# Calculate the Pearson correlation coefficient for southern cities:\n",
        "\n",
        "df_south[['Жёсткость', 'Смертность']].corr()"
      ],
      "metadata": {
        "colab": {
          "base_uri": "https://localhost:8080/",
          "height": 112
        },
        "id": "KcLvp9vWzeWo",
        "outputId": "515f23d1-218c-40c9-adb9-5701102ca781"
      },
      "execution_count": null,
      "outputs": [
        {
          "output_type": "execute_result",
          "data": {
            "text/plain": [
              "            Жёсткость  Смертность\n",
              "Жёсткость    1.000000   -0.602153\n",
              "Смертность  -0.602153    1.000000"
            ],
            "text/html": [
              "\n",
              "  <div id=\"df-bab693cd-cdfa-4925-bdcb-1580b39cc26c\">\n",
              "    <div class=\"colab-df-container\">\n",
              "      <div>\n",
              "<style scoped>\n",
              "    .dataframe tbody tr th:only-of-type {\n",
              "        vertical-align: middle;\n",
              "    }\n",
              "\n",
              "    .dataframe tbody tr th {\n",
              "        vertical-align: top;\n",
              "    }\n",
              "\n",
              "    .dataframe thead th {\n",
              "        text-align: right;\n",
              "    }\n",
              "</style>\n",
              "<table border=\"1\" class=\"dataframe\">\n",
              "  <thead>\n",
              "    <tr style=\"text-align: right;\">\n",
              "      <th></th>\n",
              "      <th>Жёсткость</th>\n",
              "      <th>Смертность</th>\n",
              "    </tr>\n",
              "  </thead>\n",
              "  <tbody>\n",
              "    <tr>\n",
              "      <th>Жёсткость</th>\n",
              "      <td>1.000000</td>\n",
              "      <td>-0.602153</td>\n",
              "    </tr>\n",
              "    <tr>\n",
              "      <th>Смертность</th>\n",
              "      <td>-0.602153</td>\n",
              "      <td>1.000000</td>\n",
              "    </tr>\n",
              "  </tbody>\n",
              "</table>\n",
              "</div>\n",
              "      <button class=\"colab-df-convert\" onclick=\"convertToInteractive('df-bab693cd-cdfa-4925-bdcb-1580b39cc26c')\"\n",
              "              title=\"Convert this dataframe to an interactive table.\"\n",
              "              style=\"display:none;\">\n",
              "        \n",
              "  <svg xmlns=\"http://www.w3.org/2000/svg\" height=\"24px\"viewBox=\"0 0 24 24\"\n",
              "       width=\"24px\">\n",
              "    <path d=\"M0 0h24v24H0V0z\" fill=\"none\"/>\n",
              "    <path d=\"M18.56 5.44l.94 2.06.94-2.06 2.06-.94-2.06-.94-.94-2.06-.94 2.06-2.06.94zm-11 1L8.5 8.5l.94-2.06 2.06-.94-2.06-.94L8.5 2.5l-.94 2.06-2.06.94zm10 10l.94 2.06.94-2.06 2.06-.94-2.06-.94-.94-2.06-.94 2.06-2.06.94z\"/><path d=\"M17.41 7.96l-1.37-1.37c-.4-.4-.92-.59-1.43-.59-.52 0-1.04.2-1.43.59L10.3 9.45l-7.72 7.72c-.78.78-.78 2.05 0 2.83L4 21.41c.39.39.9.59 1.41.59.51 0 1.02-.2 1.41-.59l7.78-7.78 2.81-2.81c.8-.78.8-2.07 0-2.86zM5.41 20L4 18.59l7.72-7.72 1.47 1.35L5.41 20z\"/>\n",
              "  </svg>\n",
              "      </button>\n",
              "      \n",
              "  <style>\n",
              "    .colab-df-container {\n",
              "      display:flex;\n",
              "      flex-wrap:wrap;\n",
              "      gap: 12px;\n",
              "    }\n",
              "\n",
              "    .colab-df-convert {\n",
              "      background-color: #E8F0FE;\n",
              "      border: none;\n",
              "      border-radius: 50%;\n",
              "      cursor: pointer;\n",
              "      display: none;\n",
              "      fill: #1967D2;\n",
              "      height: 32px;\n",
              "      padding: 0 0 0 0;\n",
              "      width: 32px;\n",
              "    }\n",
              "\n",
              "    .colab-df-convert:hover {\n",
              "      background-color: #E2EBFA;\n",
              "      box-shadow: 0px 1px 2px rgba(60, 64, 67, 0.3), 0px 1px 3px 1px rgba(60, 64, 67, 0.15);\n",
              "      fill: #174EA6;\n",
              "    }\n",
              "\n",
              "    [theme=dark] .colab-df-convert {\n",
              "      background-color: #3B4455;\n",
              "      fill: #D2E3FC;\n",
              "    }\n",
              "\n",
              "    [theme=dark] .colab-df-convert:hover {\n",
              "      background-color: #434B5C;\n",
              "      box-shadow: 0px 1px 3px 1px rgba(0, 0, 0, 0.15);\n",
              "      filter: drop-shadow(0px 1px 2px rgba(0, 0, 0, 0.3));\n",
              "      fill: #FFFFFF;\n",
              "    }\n",
              "  </style>\n",
              "\n",
              "      <script>\n",
              "        const buttonEl =\n",
              "          document.querySelector('#df-bab693cd-cdfa-4925-bdcb-1580b39cc26c button.colab-df-convert');\n",
              "        buttonEl.style.display =\n",
              "          google.colab.kernel.accessAllowed ? 'block' : 'none';\n",
              "\n",
              "        async function convertToInteractive(key) {\n",
              "          const element = document.querySelector('#df-bab693cd-cdfa-4925-bdcb-1580b39cc26c');\n",
              "          const dataTable =\n",
              "            await google.colab.kernel.invokeFunction('convertToInteractive',\n",
              "                                                     [key], {});\n",
              "          if (!dataTable) return;\n",
              "\n",
              "          const docLinkHtml = 'Like what you see? Visit the ' +\n",
              "            '<a target=\"_blank\" href=https://colab.research.google.com/notebooks/data_table.ipynb>data table notebook</a>'\n",
              "            + ' to learn more about interactive tables.';\n",
              "          element.innerHTML = '';\n",
              "          dataTable['output_type'] = 'display_data';\n",
              "          await google.colab.output.renderOutput(dataTable, element);\n",
              "          const docLink = document.createElement('div');\n",
              "          docLink.innerHTML = docLinkHtml;\n",
              "          element.appendChild(docLink);\n",
              "        }\n",
              "      </script>\n",
              "    </div>\n",
              "  </div>\n",
              "  "
            ]
          },
          "metadata": {},
          "execution_count": 173
        }
      ]
    },
    {
      "cell_type": "code",
      "source": [
        "# и северных городов:\n",
        "# -----------------------------------------------------------------------------\n",
        "# and northern cities:\n",
        "\n",
        "df_north[['Жёсткость', 'Смертность']].corr()"
      ],
      "metadata": {
        "colab": {
          "base_uri": "https://localhost:8080/",
          "height": 112
        },
        "id": "-k5_8loZzwp1",
        "outputId": "f617b679-e6d6-4283-da2d-7baf9a4af1e4"
      },
      "execution_count": null,
      "outputs": [
        {
          "output_type": "execute_result",
          "data": {
            "text/plain": [
              "            Жёсткость  Смертность\n",
              "Жёсткость    1.000000   -0.368598\n",
              "Смертность  -0.368598    1.000000"
            ],
            "text/html": [
              "\n",
              "  <div id=\"df-9757bfdc-6f35-4b85-a3f2-e2f4ff1cd3a0\">\n",
              "    <div class=\"colab-df-container\">\n",
              "      <div>\n",
              "<style scoped>\n",
              "    .dataframe tbody tr th:only-of-type {\n",
              "        vertical-align: middle;\n",
              "    }\n",
              "\n",
              "    .dataframe tbody tr th {\n",
              "        vertical-align: top;\n",
              "    }\n",
              "\n",
              "    .dataframe thead th {\n",
              "        text-align: right;\n",
              "    }\n",
              "</style>\n",
              "<table border=\"1\" class=\"dataframe\">\n",
              "  <thead>\n",
              "    <tr style=\"text-align: right;\">\n",
              "      <th></th>\n",
              "      <th>Жёсткость</th>\n",
              "      <th>Смертность</th>\n",
              "    </tr>\n",
              "  </thead>\n",
              "  <tbody>\n",
              "    <tr>\n",
              "      <th>Жёсткость</th>\n",
              "      <td>1.000000</td>\n",
              "      <td>-0.368598</td>\n",
              "    </tr>\n",
              "    <tr>\n",
              "      <th>Смертность</th>\n",
              "      <td>-0.368598</td>\n",
              "      <td>1.000000</td>\n",
              "    </tr>\n",
              "  </tbody>\n",
              "</table>\n",
              "</div>\n",
              "      <button class=\"colab-df-convert\" onclick=\"convertToInteractive('df-9757bfdc-6f35-4b85-a3f2-e2f4ff1cd3a0')\"\n",
              "              title=\"Convert this dataframe to an interactive table.\"\n",
              "              style=\"display:none;\">\n",
              "        \n",
              "  <svg xmlns=\"http://www.w3.org/2000/svg\" height=\"24px\"viewBox=\"0 0 24 24\"\n",
              "       width=\"24px\">\n",
              "    <path d=\"M0 0h24v24H0V0z\" fill=\"none\"/>\n",
              "    <path d=\"M18.56 5.44l.94 2.06.94-2.06 2.06-.94-2.06-.94-.94-2.06-.94 2.06-2.06.94zm-11 1L8.5 8.5l.94-2.06 2.06-.94-2.06-.94L8.5 2.5l-.94 2.06-2.06.94zm10 10l.94 2.06.94-2.06 2.06-.94-2.06-.94-.94-2.06-.94 2.06-2.06.94z\"/><path d=\"M17.41 7.96l-1.37-1.37c-.4-.4-.92-.59-1.43-.59-.52 0-1.04.2-1.43.59L10.3 9.45l-7.72 7.72c-.78.78-.78 2.05 0 2.83L4 21.41c.39.39.9.59 1.41.59.51 0 1.02-.2 1.41-.59l7.78-7.78 2.81-2.81c.8-.78.8-2.07 0-2.86zM5.41 20L4 18.59l7.72-7.72 1.47 1.35L5.41 20z\"/>\n",
              "  </svg>\n",
              "      </button>\n",
              "      \n",
              "  <style>\n",
              "    .colab-df-container {\n",
              "      display:flex;\n",
              "      flex-wrap:wrap;\n",
              "      gap: 12px;\n",
              "    }\n",
              "\n",
              "    .colab-df-convert {\n",
              "      background-color: #E8F0FE;\n",
              "      border: none;\n",
              "      border-radius: 50%;\n",
              "      cursor: pointer;\n",
              "      display: none;\n",
              "      fill: #1967D2;\n",
              "      height: 32px;\n",
              "      padding: 0 0 0 0;\n",
              "      width: 32px;\n",
              "    }\n",
              "\n",
              "    .colab-df-convert:hover {\n",
              "      background-color: #E2EBFA;\n",
              "      box-shadow: 0px 1px 2px rgba(60, 64, 67, 0.3), 0px 1px 3px 1px rgba(60, 64, 67, 0.15);\n",
              "      fill: #174EA6;\n",
              "    }\n",
              "\n",
              "    [theme=dark] .colab-df-convert {\n",
              "      background-color: #3B4455;\n",
              "      fill: #D2E3FC;\n",
              "    }\n",
              "\n",
              "    [theme=dark] .colab-df-convert:hover {\n",
              "      background-color: #434B5C;\n",
              "      box-shadow: 0px 1px 3px 1px rgba(0, 0, 0, 0.15);\n",
              "      filter: drop-shadow(0px 1px 2px rgba(0, 0, 0, 0.3));\n",
              "      fill: #FFFFFF;\n",
              "    }\n",
              "  </style>\n",
              "\n",
              "      <script>\n",
              "        const buttonEl =\n",
              "          document.querySelector('#df-9757bfdc-6f35-4b85-a3f2-e2f4ff1cd3a0 button.colab-df-convert');\n",
              "        buttonEl.style.display =\n",
              "          google.colab.kernel.accessAllowed ? 'block' : 'none';\n",
              "\n",
              "        async function convertToInteractive(key) {\n",
              "          const element = document.querySelector('#df-9757bfdc-6f35-4b85-a3f2-e2f4ff1cd3a0');\n",
              "          const dataTable =\n",
              "            await google.colab.kernel.invokeFunction('convertToInteractive',\n",
              "                                                     [key], {});\n",
              "          if (!dataTable) return;\n",
              "\n",
              "          const docLinkHtml = 'Like what you see? Visit the ' +\n",
              "            '<a target=\"_blank\" href=https://colab.research.google.com/notebooks/data_table.ipynb>data table notebook</a>'\n",
              "            + ' to learn more about interactive tables.';\n",
              "          element.innerHTML = '';\n",
              "          dataTable['output_type'] = 'display_data';\n",
              "          await google.colab.output.renderOutput(dataTable, element);\n",
              "          const docLink = document.createElement('div');\n",
              "          docLink.innerHTML = docLinkHtml;\n",
              "          element.appendChild(docLink);\n",
              "        }\n",
              "      </script>\n",
              "    </div>\n",
              "  </div>\n",
              "  "
            ]
          },
          "metadata": {},
          "execution_count": 174
        }
      ]
    },
    {
      "cell_type": "markdown",
      "source": [
        "*Данные коэффициенты показывают нам иную картину, чем графики. Мы видим, что  \n",
        "в южных городах как бы  обратная связь между показателями более сильная (умеренная),  \n",
        "и более схожа с общими данными, чем в северных (слабая). Возможно, это обусловлено  \n",
        "большим количеством выбросов в данных по южным городам.*\n",
        "\n",
        "---\n",
        "*These coefficients show us a different picture than the graphs. We see that in  \n",
        "southern cities, as it were, the feedback between the indicators is stronger(moderate),  \n",
        "and more similar to the general data than in northern cities (weak).  \n",
        "Perhaps this is due to the large number of outliers in the data for southern cities.*"
      ],
      "metadata": {
        "id": "0val8bhj0QEu"
      }
    },
    {
      "cell_type": "code",
      "source": [
        "# Рассчитаем коэффициент корреляции Спирмана для южных городов:\n",
        "# -----------------------------------------------------------------------------\n",
        "# Calculate the Spearman correlation coefficient for southern cities:\n",
        "\n",
        "df_south[['Жёсткость', 'Смертность']].corr(method='spearman')"
      ],
      "metadata": {
        "colab": {
          "base_uri": "https://localhost:8080/",
          "height": 112
        },
        "id": "1cfjQcS21m8-",
        "outputId": "3da8bf4c-5e01-40e5-94f9-92333e3a2c80"
      },
      "execution_count": null,
      "outputs": [
        {
          "output_type": "execute_result",
          "data": {
            "text/plain": [
              "            Жёсткость  Смертность\n",
              "Жёсткость    1.000000   -0.595723\n",
              "Смертность  -0.595723    1.000000"
            ],
            "text/html": [
              "\n",
              "  <div id=\"df-3936c3de-ee02-4630-992a-4645b9fa012d\">\n",
              "    <div class=\"colab-df-container\">\n",
              "      <div>\n",
              "<style scoped>\n",
              "    .dataframe tbody tr th:only-of-type {\n",
              "        vertical-align: middle;\n",
              "    }\n",
              "\n",
              "    .dataframe tbody tr th {\n",
              "        vertical-align: top;\n",
              "    }\n",
              "\n",
              "    .dataframe thead th {\n",
              "        text-align: right;\n",
              "    }\n",
              "</style>\n",
              "<table border=\"1\" class=\"dataframe\">\n",
              "  <thead>\n",
              "    <tr style=\"text-align: right;\">\n",
              "      <th></th>\n",
              "      <th>Жёсткость</th>\n",
              "      <th>Смертность</th>\n",
              "    </tr>\n",
              "  </thead>\n",
              "  <tbody>\n",
              "    <tr>\n",
              "      <th>Жёсткость</th>\n",
              "      <td>1.000000</td>\n",
              "      <td>-0.595723</td>\n",
              "    </tr>\n",
              "    <tr>\n",
              "      <th>Смертность</th>\n",
              "      <td>-0.595723</td>\n",
              "      <td>1.000000</td>\n",
              "    </tr>\n",
              "  </tbody>\n",
              "</table>\n",
              "</div>\n",
              "      <button class=\"colab-df-convert\" onclick=\"convertToInteractive('df-3936c3de-ee02-4630-992a-4645b9fa012d')\"\n",
              "              title=\"Convert this dataframe to an interactive table.\"\n",
              "              style=\"display:none;\">\n",
              "        \n",
              "  <svg xmlns=\"http://www.w3.org/2000/svg\" height=\"24px\"viewBox=\"0 0 24 24\"\n",
              "       width=\"24px\">\n",
              "    <path d=\"M0 0h24v24H0V0z\" fill=\"none\"/>\n",
              "    <path d=\"M18.56 5.44l.94 2.06.94-2.06 2.06-.94-2.06-.94-.94-2.06-.94 2.06-2.06.94zm-11 1L8.5 8.5l.94-2.06 2.06-.94-2.06-.94L8.5 2.5l-.94 2.06-2.06.94zm10 10l.94 2.06.94-2.06 2.06-.94-2.06-.94-.94-2.06-.94 2.06-2.06.94z\"/><path d=\"M17.41 7.96l-1.37-1.37c-.4-.4-.92-.59-1.43-.59-.52 0-1.04.2-1.43.59L10.3 9.45l-7.72 7.72c-.78.78-.78 2.05 0 2.83L4 21.41c.39.39.9.59 1.41.59.51 0 1.02-.2 1.41-.59l7.78-7.78 2.81-2.81c.8-.78.8-2.07 0-2.86zM5.41 20L4 18.59l7.72-7.72 1.47 1.35L5.41 20z\"/>\n",
              "  </svg>\n",
              "      </button>\n",
              "      \n",
              "  <style>\n",
              "    .colab-df-container {\n",
              "      display:flex;\n",
              "      flex-wrap:wrap;\n",
              "      gap: 12px;\n",
              "    }\n",
              "\n",
              "    .colab-df-convert {\n",
              "      background-color: #E8F0FE;\n",
              "      border: none;\n",
              "      border-radius: 50%;\n",
              "      cursor: pointer;\n",
              "      display: none;\n",
              "      fill: #1967D2;\n",
              "      height: 32px;\n",
              "      padding: 0 0 0 0;\n",
              "      width: 32px;\n",
              "    }\n",
              "\n",
              "    .colab-df-convert:hover {\n",
              "      background-color: #E2EBFA;\n",
              "      box-shadow: 0px 1px 2px rgba(60, 64, 67, 0.3), 0px 1px 3px 1px rgba(60, 64, 67, 0.15);\n",
              "      fill: #174EA6;\n",
              "    }\n",
              "\n",
              "    [theme=dark] .colab-df-convert {\n",
              "      background-color: #3B4455;\n",
              "      fill: #D2E3FC;\n",
              "    }\n",
              "\n",
              "    [theme=dark] .colab-df-convert:hover {\n",
              "      background-color: #434B5C;\n",
              "      box-shadow: 0px 1px 3px 1px rgba(0, 0, 0, 0.15);\n",
              "      filter: drop-shadow(0px 1px 2px rgba(0, 0, 0, 0.3));\n",
              "      fill: #FFFFFF;\n",
              "    }\n",
              "  </style>\n",
              "\n",
              "      <script>\n",
              "        const buttonEl =\n",
              "          document.querySelector('#df-3936c3de-ee02-4630-992a-4645b9fa012d button.colab-df-convert');\n",
              "        buttonEl.style.display =\n",
              "          google.colab.kernel.accessAllowed ? 'block' : 'none';\n",
              "\n",
              "        async function convertToInteractive(key) {\n",
              "          const element = document.querySelector('#df-3936c3de-ee02-4630-992a-4645b9fa012d');\n",
              "          const dataTable =\n",
              "            await google.colab.kernel.invokeFunction('convertToInteractive',\n",
              "                                                     [key], {});\n",
              "          if (!dataTable) return;\n",
              "\n",
              "          const docLinkHtml = 'Like what you see? Visit the ' +\n",
              "            '<a target=\"_blank\" href=https://colab.research.google.com/notebooks/data_table.ipynb>data table notebook</a>'\n",
              "            + ' to learn more about interactive tables.';\n",
              "          element.innerHTML = '';\n",
              "          dataTable['output_type'] = 'display_data';\n",
              "          await google.colab.output.renderOutput(dataTable, element);\n",
              "          const docLink = document.createElement('div');\n",
              "          docLink.innerHTML = docLinkHtml;\n",
              "          element.appendChild(docLink);\n",
              "        }\n",
              "      </script>\n",
              "    </div>\n",
              "  </div>\n",
              "  "
            ]
          },
          "metadata": {},
          "execution_count": 175
        }
      ]
    },
    {
      "cell_type": "code",
      "source": [
        "# и северных городов:\n",
        "# -----------------------------------------------------------------------------\n",
        "# and northern cities:\n",
        "\n",
        "df_north[['Жёсткость', 'Смертность']].corr(method='spearman')"
      ],
      "metadata": {
        "colab": {
          "base_uri": "https://localhost:8080/",
          "height": 112
        },
        "id": "OYggiSTL1yoW",
        "outputId": "bef7cd28-7851-4daa-9fad-8caf4728c5bd"
      },
      "execution_count": null,
      "outputs": [
        {
          "output_type": "execute_result",
          "data": {
            "text/plain": [
              "            Жёсткость  Смертность\n",
              "Жёсткость    1.000000   -0.404208\n",
              "Смертность  -0.404208    1.000000"
            ],
            "text/html": [
              "\n",
              "  <div id=\"df-28a30c19-365b-4bae-b5ad-31c00e13d0c5\">\n",
              "    <div class=\"colab-df-container\">\n",
              "      <div>\n",
              "<style scoped>\n",
              "    .dataframe tbody tr th:only-of-type {\n",
              "        vertical-align: middle;\n",
              "    }\n",
              "\n",
              "    .dataframe tbody tr th {\n",
              "        vertical-align: top;\n",
              "    }\n",
              "\n",
              "    .dataframe thead th {\n",
              "        text-align: right;\n",
              "    }\n",
              "</style>\n",
              "<table border=\"1\" class=\"dataframe\">\n",
              "  <thead>\n",
              "    <tr style=\"text-align: right;\">\n",
              "      <th></th>\n",
              "      <th>Жёсткость</th>\n",
              "      <th>Смертность</th>\n",
              "    </tr>\n",
              "  </thead>\n",
              "  <tbody>\n",
              "    <tr>\n",
              "      <th>Жёсткость</th>\n",
              "      <td>1.000000</td>\n",
              "      <td>-0.404208</td>\n",
              "    </tr>\n",
              "    <tr>\n",
              "      <th>Смертность</th>\n",
              "      <td>-0.404208</td>\n",
              "      <td>1.000000</td>\n",
              "    </tr>\n",
              "  </tbody>\n",
              "</table>\n",
              "</div>\n",
              "      <button class=\"colab-df-convert\" onclick=\"convertToInteractive('df-28a30c19-365b-4bae-b5ad-31c00e13d0c5')\"\n",
              "              title=\"Convert this dataframe to an interactive table.\"\n",
              "              style=\"display:none;\">\n",
              "        \n",
              "  <svg xmlns=\"http://www.w3.org/2000/svg\" height=\"24px\"viewBox=\"0 0 24 24\"\n",
              "       width=\"24px\">\n",
              "    <path d=\"M0 0h24v24H0V0z\" fill=\"none\"/>\n",
              "    <path d=\"M18.56 5.44l.94 2.06.94-2.06 2.06-.94-2.06-.94-.94-2.06-.94 2.06-2.06.94zm-11 1L8.5 8.5l.94-2.06 2.06-.94-2.06-.94L8.5 2.5l-.94 2.06-2.06.94zm10 10l.94 2.06.94-2.06 2.06-.94-2.06-.94-.94-2.06-.94 2.06-2.06.94z\"/><path d=\"M17.41 7.96l-1.37-1.37c-.4-.4-.92-.59-1.43-.59-.52 0-1.04.2-1.43.59L10.3 9.45l-7.72 7.72c-.78.78-.78 2.05 0 2.83L4 21.41c.39.39.9.59 1.41.59.51 0 1.02-.2 1.41-.59l7.78-7.78 2.81-2.81c.8-.78.8-2.07 0-2.86zM5.41 20L4 18.59l7.72-7.72 1.47 1.35L5.41 20z\"/>\n",
              "  </svg>\n",
              "      </button>\n",
              "      \n",
              "  <style>\n",
              "    .colab-df-container {\n",
              "      display:flex;\n",
              "      flex-wrap:wrap;\n",
              "      gap: 12px;\n",
              "    }\n",
              "\n",
              "    .colab-df-convert {\n",
              "      background-color: #E8F0FE;\n",
              "      border: none;\n",
              "      border-radius: 50%;\n",
              "      cursor: pointer;\n",
              "      display: none;\n",
              "      fill: #1967D2;\n",
              "      height: 32px;\n",
              "      padding: 0 0 0 0;\n",
              "      width: 32px;\n",
              "    }\n",
              "\n",
              "    .colab-df-convert:hover {\n",
              "      background-color: #E2EBFA;\n",
              "      box-shadow: 0px 1px 2px rgba(60, 64, 67, 0.3), 0px 1px 3px 1px rgba(60, 64, 67, 0.15);\n",
              "      fill: #174EA6;\n",
              "    }\n",
              "\n",
              "    [theme=dark] .colab-df-convert {\n",
              "      background-color: #3B4455;\n",
              "      fill: #D2E3FC;\n",
              "    }\n",
              "\n",
              "    [theme=dark] .colab-df-convert:hover {\n",
              "      background-color: #434B5C;\n",
              "      box-shadow: 0px 1px 3px 1px rgba(0, 0, 0, 0.15);\n",
              "      filter: drop-shadow(0px 1px 2px rgba(0, 0, 0, 0.3));\n",
              "      fill: #FFFFFF;\n",
              "    }\n",
              "  </style>\n",
              "\n",
              "      <script>\n",
              "        const buttonEl =\n",
              "          document.querySelector('#df-28a30c19-365b-4bae-b5ad-31c00e13d0c5 button.colab-df-convert');\n",
              "        buttonEl.style.display =\n",
              "          google.colab.kernel.accessAllowed ? 'block' : 'none';\n",
              "\n",
              "        async function convertToInteractive(key) {\n",
              "          const element = document.querySelector('#df-28a30c19-365b-4bae-b5ad-31c00e13d0c5');\n",
              "          const dataTable =\n",
              "            await google.colab.kernel.invokeFunction('convertToInteractive',\n",
              "                                                     [key], {});\n",
              "          if (!dataTable) return;\n",
              "\n",
              "          const docLinkHtml = 'Like what you see? Visit the ' +\n",
              "            '<a target=\"_blank\" href=https://colab.research.google.com/notebooks/data_table.ipynb>data table notebook</a>'\n",
              "            + ' to learn more about interactive tables.';\n",
              "          element.innerHTML = '';\n",
              "          dataTable['output_type'] = 'display_data';\n",
              "          await google.colab.output.renderOutput(dataTable, element);\n",
              "          const docLink = document.createElement('div');\n",
              "          docLink.innerHTML = docLinkHtml;\n",
              "          element.appendChild(docLink);\n",
              "        }\n",
              "      </script>\n",
              "    </div>\n",
              "  </div>\n",
              "  "
            ]
          },
          "metadata": {},
          "execution_count": 176
        }
      ]
    },
    {
      "cell_type": "markdown",
      "source": [
        "*Коэффициенты показывают похожую связь, описанную выше.*\n",
        "\n",
        "---\n",
        "*The coefficients show a similar relationship described above.*"
      ],
      "metadata": {
        "id": "Ham8ga0y2OHY"
      }
    },
    {
      "cell_type": "code",
      "source": [
        "# Сформируем признаки и целевую переменную по южным городам:\n",
        "# -----------------------------------------------------------------------------\n",
        "# Let's form signs and target variable for southern cities:\n",
        "\n",
        "X_south = df_south[['Жёсткость']]\n",
        "Y_south = df_south['Смертность']"
      ],
      "metadata": {
        "id": "KDoYSc3Z2oKI"
      },
      "execution_count": null,
      "outputs": []
    },
    {
      "cell_type": "code",
      "source": [
        "# и северным городам:\n",
        "# -----------------------------------------------------------------------------\n",
        "# and northern cities:\n",
        "\n",
        "X_north = df_north[['Жёсткость']]\n",
        "Y_north = df_north['Смертность']"
      ],
      "metadata": {
        "id": "fj_VV4ly3A5f"
      },
      "execution_count": null,
      "outputs": []
    },
    {
      "cell_type": "code",
      "source": [
        "# Разделим данные на выборку для обучения и проверки по южным городам:\n",
        "# -----------------------------------------------------------------------------\n",
        "# We will divide the data into a sample for training and verification by\n",
        "# southern cities:\n",
        "\n",
        "X_south_train, X_south_test, Y_south_train, Y_south_test = train_test_split(\n",
        "    X_south, Y_south, test_size=0.20,\n",
        "                     random_state=42\n",
        "                     )"
      ],
      "metadata": {
        "id": "u9HBk2eV3fvH"
      },
      "execution_count": null,
      "outputs": []
    },
    {
      "cell_type": "code",
      "source": [
        "# и северным городам:\n",
        "# -----------------------------------------------------------------------------\n",
        "# and northern cities:\n",
        "\n",
        "X_north_train, X_north_test, Y_north_train, Y_north_test = train_test_split(\n",
        "    X_north, Y_north, test_size=0.20,\n",
        "                     random_state=42\n",
        "                     )"
      ],
      "metadata": {
        "id": "DW9icxFo4Rav"
      },
      "execution_count": null,
      "outputs": []
    },
    {
      "cell_type": "code",
      "source": [
        "# Создадим и обучим модель линейной регрессии для южных городов:\n",
        "# ----------------------------------------------------------------------------\n",
        "# Create and train a linear regression model for southern cities:\n",
        "\n",
        "model_south = LinearRegression()\n",
        "model_south.fit(X_south_train, Y_south_train)"
      ],
      "metadata": {
        "id": "s_ybricN4noX"
      },
      "execution_count": null,
      "outputs": []
    },
    {
      "cell_type": "code",
      "source": [
        "# и северных городов:\n",
        "# -----------------------------------------------------------------------------\n",
        "# and northern cities:\n",
        "\n",
        "model_north = LinearRegression()\n",
        "model_north.fit(X_north_train, Y_north_train)"
      ],
      "metadata": {
        "id": "BqFIAjmo46YK"
      },
      "execution_count": null,
      "outputs": []
    },
    {
      "cell_type": "code",
      "source": [
        "# Посмотрим прогнозные данные для южных городов:\n",
        "# -----------------------------------------------------------------------------\n",
        "# Let's look at the forecast data for southern cities:\n",
        "\n",
        "Y_south_pred = model_south.predict(X_south_test)\n",
        "print(Y_south_pred.round())"
      ],
      "metadata": {
        "colab": {
          "base_uri": "https://localhost:8080/"
        },
        "id": "qT3XsBhw5LcK",
        "outputId": "a9e7721a-5663-49bd-9306-3855062bbade"
      },
      "execution_count": null,
      "outputs": [
        {
          "output_type": "stream",
          "name": "stdout",
          "text": [
            "[1220. 1580. 1273. 1220. 1482. 1531.]\n"
          ]
        }
      ]
    },
    {
      "cell_type": "code",
      "source": [
        "# и северных городов:\n",
        "# -----------------------------------------------------------------------------\n",
        "# and northern cities:\n",
        "\n",
        "Y_north_pred = model_north.predict(X_north_test)\n",
        "print(Y_north_pred.round())"
      ],
      "metadata": {
        "colab": {
          "base_uri": "https://localhost:8080/"
        },
        "id": "vZBz8NUf5iTY",
        "outputId": "e0c7806f-60a7-471a-a52e-d7020f0ea8c6"
      },
      "execution_count": null,
      "outputs": [
        {
          "output_type": "stream",
          "name": "stdout",
          "text": [
            "[1677. 1675. 1663. 1681. 1659. 1535. 1596.]\n"
          ]
        }
      ]
    },
    {
      "cell_type": "markdown",
      "source": [
        "*Как видим прогнозные данные отличаются значительно.*\n",
        "\n",
        "---\n",
        "*As we can see, the forecast data differ significantly.*"
      ],
      "metadata": {
        "id": "eMPrgHT755GY"
      }
    },
    {
      "cell_type": "code",
      "source": [
        "# Рассчитаем коэффициент детерминации для южных городов:\n",
        "# -----------------------------------------------------------------------------\n",
        "# Calculate the coefficient of determination for southern cities:\n",
        "\n",
        "model_south.score(X_south_test, Y_south_test)"
      ],
      "metadata": {
        "colab": {
          "base_uri": "https://localhost:8080/"
        },
        "id": "JUaECmsJ51kY",
        "outputId": "d9dddb62-1fce-4d50-accc-7b4f59dc47f0"
      },
      "execution_count": null,
      "outputs": [
        {
          "output_type": "execute_result",
          "data": {
            "text/plain": [
              "-1.9300174406554644"
            ]
          },
          "metadata": {},
          "execution_count": 185
        }
      ]
    },
    {
      "cell_type": "code",
      "source": [
        "# и северных городов:\n",
        "# -----------------------------------------------------------------------------\n",
        "# and northern cities:\n",
        "\n",
        "model_north.score(X_north_test, Y_north_test)"
      ],
      "metadata": {
        "colab": {
          "base_uri": "https://localhost:8080/"
        },
        "id": "h5Rd-TqN6VDB",
        "outputId": "527b8ed0-db1f-4a86-9f80-a4499408c5cc"
      },
      "execution_count": null,
      "outputs": [
        {
          "output_type": "execute_result",
          "data": {
            "text/plain": [
              "-0.18101539518829401"
            ]
          },
          "metadata": {},
          "execution_count": 186
        }
      ]
    },
    {
      "cell_type": "markdown",
      "source": [
        "*В обоих случаях мы получили отрицательный коэффициент детерминации. Это говорит  \n",
        "о том, что обе наши модели не работают. Возможно, это обусловлено очень малой  \n",
        "выборкой данных. Построение графиков остатков вряд ли меет смысл, но мы посмотрим  \n",
        "на них.*\n",
        "\n",
        "---\n",
        "*In both cases, we obtained a negative coefficient of determination. This  \n",
        "suggests that both of our models are not working. Perhaps this is due to a very  \n",
        "small by sampling data. Plotting the residuals hardly makes sense, but we'll  \n",
        "see on them.*"
      ],
      "metadata": {
        "id": "Xp8l-eGC6pvg"
      }
    },
    {
      "cell_type": "code",
      "source": [
        "# Построим график модели линейной регрессии по южным городам:\n",
        "# -----------------------------------------------------------------------------\n",
        "# Let's plot a linear regression model for southern cities:\n",
        "\n",
        "plt.scatter(X_south_train, Y_south_train)\n",
        "plt.plot(X_south_test, Y_south_pred, c='r')\n",
        "plt.title('График линейной регрессии по южным городам',\n",
        "          fontsize=16, fontweight='bold', pad=20)\n",
        "plt.xlabel('Жёсткость воды', fontsize=14, fontweight='bold')\n",
        "plt.ylabel('Средняя годовая смертность на 100 000 населения',\n",
        "           fontsize=14, fontweight='bold')\n",
        "plt.xticks(fontsize=12)\n",
        "plt.yticks(fontsize=12)\n",
        "plt.show()"
      ],
      "metadata": {
        "colab": {
          "base_uri": "https://localhost:8080/",
          "height": 482
        },
        "id": "ME29SY1R8TAa",
        "outputId": "cd62062f-00a2-4e8e-beb4-78f5bc8a105a"
      },
      "execution_count": null,
      "outputs": [
        {
          "output_type": "display_data",
          "data": {
            "text/plain": [
              "<Figure size 792x504 with 1 Axes>"
            ],
            "image/png": "[encoded data removed]"
          },
          "metadata": {
            "needs_background": "light"
          }
        }
      ]
    },
    {
      "cell_type": "code",
      "source": [
        "# и по северным городам:\n",
        "# -----------------------------------------------------------------------------\n",
        "# and the northern cities:\n",
        "\n",
        "plt.scatter(X_north_train, Y_north_train)\n",
        "plt.plot(X_north_test, Y_north_pred, c='r')\n",
        "plt.title('График линейной регрессии по северным городам',\n",
        "          fontsize=16, fontweight='bold', pad=20)\n",
        "plt.xlabel('Жёсткость воды', fontsize=14, fontweight='bold')\n",
        "plt.ylabel('Средняя годовая смертность на 100 000 населения',\n",
        "           fontsize=14, fontweight='bold')\n",
        "plt.xticks(fontsize=12)\n",
        "plt.yticks(fontsize=12)\n",
        "plt.show()"
      ],
      "metadata": {
        "colab": {
          "base_uri": "https://localhost:8080/",
          "height": 482
        },
        "id": "y1ynLeWn8qCh",
        "outputId": "6d76989c-150a-4474-eed0-805d560de845"
      },
      "execution_count": null,
      "outputs": [
        {
          "output_type": "display_data",
          "data": {
            "text/plain": [
              "<Figure size 792x504 with 1 Axes>"
            ],
            "image/png": "[encoded data removed]"
          },
          "metadata": {
            "needs_background": "light"
          }
        }
      ]
    },
    {
      "cell_type": "code",
      "source": [
        "# Найдем остатки по южным городам:\n",
        "# -----------------------------------------------------------------------------\n",
        "# We will find the remnants of the southern cities:\n",
        "\n",
        "residuals_south = Y_south_test - Y_south_pred"
      ],
      "metadata": {
        "id": "9mTxr-AqbQZD"
      },
      "execution_count": null,
      "outputs": []
    },
    {
      "cell_type": "code",
      "source": [
        "# и по северным городам:\n",
        "# -----------------------------------------------------------------------------\n",
        "# and the northern cities:\n",
        "\n",
        "residuals_north = Y_north_test - Y_north_pred"
      ],
      "metadata": {
        "id": "CbRj9-qmbiFu"
      },
      "execution_count": null,
      "outputs": []
    },
    {
      "cell_type": "code",
      "source": [
        "# Построим график остатков по южным городам:\n",
        "# -----------------------------------------------------------------------------\n",
        "# Let's build a graph of balances for southern cities:\n",
        "\n",
        "plt.scatter(residuals_south, Y_south_pred)\n",
        "plt.axvline(x = 0, c='r', linestyle = '-')\n",
        "plt.title('График остатков по южным городам',\n",
        "          fontsize=16, fontweight='bold', pad=20)\n",
        "plt.xlabel('Остатки',\n",
        "           fontsize=14, fontweight='bold')\n",
        "plt.ylabel('Прогноз',\n",
        "           fontsize=14, fontweight='bold')\n",
        "plt.xticks(fontsize=12)\n",
        "plt.yticks(fontsize=12)\n",
        "plt.show()"
      ],
      "metadata": {
        "colab": {
          "base_uri": "https://localhost:8080/",
          "height": 482
        },
        "id": "PGBj-vVwbxfX",
        "outputId": "ef39ac83-ae70-423f-d939-654195fc41bd"
      },
      "execution_count": null,
      "outputs": [
        {
          "output_type": "display_data",
          "data": {
            "text/plain": [
              "<Figure size 792x504 with 1 Axes>"
            ],
            "image/png": "[encoded data removed]"
          },
          "metadata": {
            "needs_background": "light"
          }
        }
      ]
    },
    {
      "cell_type": "code",
      "source": [
        "# и по северным городам:\n",
        "# -----------------------------------------------------------------------------\n",
        "# and the northern cities:\n",
        "\n",
        "plt.scatter(residuals_north, Y_north_pred)\n",
        "plt.axvline(x = 0, c='r', linestyle = '-')\n",
        "plt.title('График остатков по северным городам',\n",
        "          fontsize=16, fontweight='bold', pad=20)\n",
        "plt.xlabel('Остатки',\n",
        "           fontsize=14, fontweight='bold')\n",
        "plt.ylabel('Прогноз',\n",
        "           fontsize=14, fontweight='bold')\n",
        "plt.xticks(fontsize=12)\n",
        "plt.yticks(fontsize=12)\n",
        "plt.show()"
      ],
      "metadata": {
        "colab": {
          "base_uri": "https://localhost:8080/",
          "height": 482
        },
        "id": "y6OfNfkucIqK",
        "outputId": "5af52f94-0807-486a-886a-c4af72214737"
      },
      "execution_count": null,
      "outputs": [
        {
          "output_type": "display_data",
          "data": {
            "text/plain": [
              "<Figure size 792x504 with 1 Axes>"
            ],
            "image/png": "[encoded data removed]"
          },
          "metadata": {
            "needs_background": "light"
          }
        }
      ]
    },
    {
      "cell_type": "markdown",
      "source": [
        "*На обоих графиках мы видим резкие выбросы. Это подтверждает, что модели  \n",
        "подобраны не правильно.* <i>**Отвечая на вопрос задания мы можем сказать, что  \n",
        "связь в отдельности по южным и северным городам отличается от общей  \n",
        "выборки. Вероятно, это связано с очень малыми размерами выборок.**</i>\n",
        "\n",
        "---\n",
        "*We see sharp outliers on both charts. This confirms that the models are  \n",
        "selected incorrectly.* <i>**Answering the question of the task, we can say that  \n",
        "the connection separately for the southern and northern cities differs from the  \n",
        "general one selections. This is probably due to the very small sample sizes.**</i>"
      ],
      "metadata": {
        "id": "0zqkVnAL9_TK"
      }
    }
  ]
}